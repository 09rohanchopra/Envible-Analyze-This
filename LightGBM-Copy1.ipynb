{
 "cells": [
  {
   "cell_type": "code",
   "execution_count": 17,
   "metadata": {},
   "outputs": [],
   "source": [
    "library(caret)\n",
    "library(RLightGBM)"
   ]
  },
  {
   "cell_type": "code",
   "execution_count": 42,
   "metadata": {
    "collapsed": true
   },
   "outputs": [],
   "source": [
    "setwd(\"~/coding/Envible-VITVellore-AMAX-Analyze-This-2017\")"
   ]
  },
  {
   "cell_type": "code",
   "execution_count": 43,
   "metadata": {
    "collapsed": true
   },
   "outputs": [],
   "source": [
    "data <- read.csv('Dataset/Training_Dataset.csv')"
   ]
  },
  {
   "cell_type": "code",
   "execution_count": 44,
   "metadata": {
    "collapsed": true
   },
   "outputs": [],
   "source": [
    "data <- data[, ! names(data) %in% c(\"mvar1\"), drop = FALSE]\n",
    "data <- data[, ! names(data) %in% c(\"cm_key\"), drop = FALSE]"
   ]
  },
  {
   "cell_type": "code",
   "execution_count": 45,
   "metadata": {},
   "outputs": [
    {
     "data": {
      "text/html": [
       "40000"
      ],
      "text/latex": [
       "40000"
      ],
      "text/markdown": [
       "40000"
      ],
      "text/plain": [
       "[1] 40000"
      ]
     },
     "metadata": {},
     "output_type": "display_data"
    }
   ],
   "source": [
    "data$target <- rep(\"None\",nrow(data))\n",
    "data$target[data$mvar49==1] <- \"Supp\"\n",
    "data$target[data$mvar50==1] <- \"Elite\"\n",
    "data$target[data$mvar51==1] <- \"Credit\"\n",
    "length(data$target)"
   ]
  },
  {
   "cell_type": "code",
   "execution_count": 46,
   "metadata": {},
   "outputs": [
    {
     "data": {
      "text/html": [
       "40000"
      ],
      "text/latex": [
       "40000"
      ],
      "text/markdown": [
       "40000"
      ],
      "text/plain": [
       "[1] 40000"
      ]
     },
     "metadata": {},
     "output_type": "display_data"
    }
   ],
   "source": [
    "data$targetBin <- rep(0,nrow(data))\n",
    "data$targetBin[data$mvar49==1] <- 1\n",
    "data$targetBin[data$mvar50==1] <- 1\n",
    "data$targetBin[data$mvar51==1] <- 1\n",
    "length(data$targetBin)"
   ]
  },
  {
   "cell_type": "code",
   "execution_count": 47,
   "metadata": {
    "collapsed": true
   },
   "outputs": [],
   "source": [
    "data$target <- as.factor(data$target)\n",
    "data$targetBin <- as.factor(data$targetBin)"
   ]
  },
  {
   "cell_type": "code",
   "execution_count": 48,
   "metadata": {
    "collapsed": true
   },
   "outputs": [],
   "source": [
    "data <- data[, ! names(data) %in% c(\"mvar46\"), drop = FALSE]\n",
    "data <- data[, ! names(data) %in% c(\"mvar47\"), drop = FALSE]\n",
    "data <- data[, ! names(data) %in% c(\"mvar48\"), drop = FALSE]\n",
    "data <- data[, ! names(data) %in% c(\"mvar49\"), drop = FALSE]\n",
    "data <- data[, ! names(data) %in% c(\"mvar50\"), drop = FALSE]\n",
    "data <- data[, ! names(data) %in% c(\"mvar51\"), drop = FALSE]"
   ]
  },
  {
   "cell_type": "markdown",
   "metadata": {},
   "source": [
    "Get targets to the last column"
   ]
  },
  {
   "cell_type": "code",
   "execution_count": 49,
   "metadata": {
    "collapsed": true
   },
   "outputs": [],
   "source": [
    "multi <- data$target \n",
    "data <- data[, ! names(data) %in% c(\"target\"), drop = FALSE]\n",
    "data['target'] <- multi\n",
    "bin <- data$targetBin \n",
    "data <- data[, ! names(data) %in% c(\"targetBin\"), drop = FALSE]\n",
    "data['targetBin'] <- bin"
   ]
  },
  {
   "cell_type": "code",
   "execution_count": 50,
   "metadata": {},
   "outputs": [
    {
     "data": {
      "text/html": [
       "<table>\n",
       "<thead><tr><th scope=col>mvar2</th><th scope=col>mvar3</th><th scope=col>mvar4</th><th scope=col>mvar5</th><th scope=col>mvar6</th><th scope=col>mvar7</th><th scope=col>mvar8</th><th scope=col>mvar9</th><th scope=col>mvar10</th><th scope=col>mvar11</th><th scope=col>⋯</th><th scope=col>mvar38</th><th scope=col>mvar39</th><th scope=col>mvar40</th><th scope=col>mvar41</th><th scope=col>mvar42</th><th scope=col>mvar43</th><th scope=col>mvar44</th><th scope=col>mvar45</th><th scope=col>target</th><th scope=col>targetBin</th></tr></thead>\n",
       "<tbody>\n",
       "\t<tr><td>0        </td><td>106920   </td><td>4        </td><td> 18      </td><td> 970     </td><td>0.7969   </td><td>0.1831   </td><td> 337236  </td><td>1        </td><td>6.0899   </td><td>⋯        </td><td>173841.11</td><td>131011.34</td><td>0        </td><td>0        </td><td>0        </td><td>0        </td><td>0        </td><td>0        </td><td>None     </td><td>0        </td></tr>\n",
       "\t<tr><td>2        </td><td>     0   </td><td>4        </td><td> 19      </td><td>1030     </td><td>0.0678   </td><td>0.0000   </td><td>2918974  </td><td>1        </td><td>4.2016   </td><td>⋯        </td><td> 21049.55</td><td>  9146.66</td><td>0        </td><td>0        </td><td>0        </td><td>0        </td><td>0        </td><td>0        </td><td>None     </td><td>0        </td></tr>\n",
       "\t<tr><td>2        </td><td>399168   </td><td>4        </td><td> 35      </td><td> 327     </td><td>0.7551   </td><td>0.2986   </td><td> 498656  </td><td>0        </td><td>3.3760   </td><td>⋯        </td><td> 38022.78</td><td> 29979.13</td><td>0        </td><td>0        </td><td>0        </td><td>0        </td><td>0        </td><td>0        </td><td>None     </td><td>0        </td></tr>\n",
       "\t<tr><td>0        </td><td>267300   </td><td>4        </td><td>274      </td><td>1258     </td><td>0.7969   </td><td>0.5297   </td><td>2480074  </td><td>1        </td><td>4.1082   </td><td>⋯        </td><td> 23934.82</td><td> 33299.45</td><td>1        </td><td>0        </td><td>0        </td><td>1        </td><td>0        </td><td>0        </td><td>Credit   </td><td>1        </td></tr>\n",
       "\t<tr><td>0        </td><td>213840   </td><td>6        </td><td>  1      </td><td>   0     </td><td>2.3238   </td><td>0.0000   </td><td>2918974  </td><td>0        </td><td>0.0000   </td><td>⋯        </td><td>112817.05</td><td> 53185.85</td><td>0        </td><td>0        </td><td>0        </td><td>0        </td><td>0        </td><td>0        </td><td>Supp     </td><td>1        </td></tr>\n",
       "\t<tr><td>5        </td><td>     0   </td><td>1        </td><td>127      </td><td> 381     </td><td>0.1431   </td><td>0.0000   </td><td>  48246  </td><td>0        </td><td>3.1081   </td><td>⋯        </td><td> 13645.81</td><td> 16864.47</td><td>0        </td><td>0        </td><td>0        </td><td>0        </td><td>0        </td><td>0        </td><td>None     </td><td>0        </td></tr>\n",
       "</tbody>\n",
       "</table>\n"
      ],
      "text/latex": [
       "\\begin{tabular}{r|llllllllllllllllllllllllllllllllllllllllllllll}\n",
       " mvar2 & mvar3 & mvar4 & mvar5 & mvar6 & mvar7 & mvar8 & mvar9 & mvar10 & mvar11 & ⋯ & mvar38 & mvar39 & mvar40 & mvar41 & mvar42 & mvar43 & mvar44 & mvar45 & target & targetBin\\\\\n",
       "\\hline\n",
       "\t 0         & 106920    & 4         &  18       &  970      & 0.7969    & 0.1831    &  337236   & 1         & 6.0899    & ⋯         & 173841.11 & 131011.34 & 0         & 0         & 0         & 0         & 0         & 0         & None      & 0        \\\\\n",
       "\t 2         &      0    & 4         &  19       & 1030      & 0.0678    & 0.0000    & 2918974   & 1         & 4.2016    & ⋯         &  21049.55 &   9146.66 & 0         & 0         & 0         & 0         & 0         & 0         & None      & 0        \\\\\n",
       "\t 2         & 399168    & 4         &  35       &  327      & 0.7551    & 0.2986    &  498656   & 0         & 3.3760    & ⋯         &  38022.78 &  29979.13 & 0         & 0         & 0         & 0         & 0         & 0         & None      & 0        \\\\\n",
       "\t 0         & 267300    & 4         & 274       & 1258      & 0.7969    & 0.5297    & 2480074   & 1         & 4.1082    & ⋯         &  23934.82 &  33299.45 & 1         & 0         & 0         & 1         & 0         & 0         & Credit    & 1        \\\\\n",
       "\t 0         & 213840    & 6         &   1       &    0      & 2.3238    & 0.0000    & 2918974   & 0         & 0.0000    & ⋯         & 112817.05 &  53185.85 & 0         & 0         & 0         & 0         & 0         & 0         & Supp      & 1        \\\\\n",
       "\t 5         &      0    & 1         & 127       &  381      & 0.1431    & 0.0000    &   48246   & 0         & 3.1081    & ⋯         &  13645.81 &  16864.47 & 0         & 0         & 0         & 0         & 0         & 0         & None      & 0        \\\\\n",
       "\\end{tabular}\n"
      ],
      "text/markdown": [
       "\n",
       "mvar2 | mvar3 | mvar4 | mvar5 | mvar6 | mvar7 | mvar8 | mvar9 | mvar10 | mvar11 | ⋯ | mvar38 | mvar39 | mvar40 | mvar41 | mvar42 | mvar43 | mvar44 | mvar45 | target | targetBin | \n",
       "|---|---|---|---|---|---|\n",
       "| 0         | 106920    | 4         |  18       |  970      | 0.7969    | 0.1831    |  337236   | 1         | 6.0899    | ⋯         | 173841.11 | 131011.34 | 0         | 0         | 0         | 0         | 0         | 0         | None      | 0         | \n",
       "| 2         |      0    | 4         |  19       | 1030      | 0.0678    | 0.0000    | 2918974   | 1         | 4.2016    | ⋯         |  21049.55 |   9146.66 | 0         | 0         | 0         | 0         | 0         | 0         | None      | 0         | \n",
       "| 2         | 399168    | 4         |  35       |  327      | 0.7551    | 0.2986    |  498656   | 0         | 3.3760    | ⋯         |  38022.78 |  29979.13 | 0         | 0         | 0         | 0         | 0         | 0         | None      | 0         | \n",
       "| 0         | 267300    | 4         | 274       | 1258      | 0.7969    | 0.5297    | 2480074   | 1         | 4.1082    | ⋯         |  23934.82 |  33299.45 | 1         | 0         | 0         | 1         | 0         | 0         | Credit    | 1         | \n",
       "| 0         | 213840    | 6         |   1       |    0      | 2.3238    | 0.0000    | 2918974   | 0         | 0.0000    | ⋯         | 112817.05 |  53185.85 | 0         | 0         | 0         | 0         | 0         | 0         | Supp      | 1         | \n",
       "| 5         |      0    | 1         | 127       |  381      | 0.1431    | 0.0000    |   48246   | 0         | 3.1081    | ⋯         |  13645.81 |  16864.47 | 0         | 0         | 0         | 0         | 0         | 0         | None      | 0         | \n",
       "\n",
       "\n"
      ],
      "text/plain": [
       "  mvar2 mvar3  mvar4 mvar5 mvar6 mvar7  mvar8  mvar9   mvar10 mvar11 ⋯\n",
       "1 0     106920 4      18    970  0.7969 0.1831  337236 1      6.0899 ⋯\n",
       "2 2          0 4      19   1030  0.0678 0.0000 2918974 1      4.2016 ⋯\n",
       "3 2     399168 4      35    327  0.7551 0.2986  498656 0      3.3760 ⋯\n",
       "4 0     267300 4     274   1258  0.7969 0.5297 2480074 1      4.1082 ⋯\n",
       "5 0     213840 6       1      0  2.3238 0.0000 2918974 0      0.0000 ⋯\n",
       "6 5          0 1     127    381  0.1431 0.0000   48246 0      3.1081 ⋯\n",
       "  mvar38    mvar39    mvar40 mvar41 mvar42 mvar43 mvar44 mvar45 target\n",
       "1 173841.11 131011.34 0      0      0      0      0      0      None  \n",
       "2  21049.55   9146.66 0      0      0      0      0      0      None  \n",
       "3  38022.78  29979.13 0      0      0      0      0      0      None  \n",
       "4  23934.82  33299.45 1      0      0      1      0      0      Credit\n",
       "5 112817.05  53185.85 0      0      0      0      0      0      Supp  \n",
       "6  13645.81  16864.47 0      0      0      0      0      0      None  \n",
       "  targetBin\n",
       "1 0        \n",
       "2 0        \n",
       "3 0        \n",
       "4 1        \n",
       "5 1        \n",
       "6 0        "
      ]
     },
     "metadata": {},
     "output_type": "display_data"
    }
   ],
   "source": [
    "head(data)"
   ]
  },
  {
   "cell_type": "markdown",
   "metadata": {},
   "source": [
    "Make factors"
   ]
  },
  {
   "cell_type": "code",
   "execution_count": 51,
   "metadata": {
    "collapsed": true
   },
   "outputs": [],
   "source": [
    "data$mvar2 <- as.factor(data$mvar2)\n",
    "data$mvar4 <- as.factor(data$mvar4)\n",
    "data$mvar10 <- as.factor(data$mvar10)\n",
    "data$mvar12 <- as.factor(data$mvar12)\n",
    "data$mvar13 <- as.factor(data$mvar13)\n",
    "data$mvar14 <- as.factor(data$mvar14)\n",
    "data$mvar15 <- as.factor(data$mvar15)\n",
    "data$mvar40 <- as.factor(data$mvar40)\n",
    "data$mvar41 <- as.factor(data$mvar41)\n",
    "data$mvar42 <- as.factor(data$mvar42)\n",
    "data$mvar43 <- as.factor(data$mvar43)\n",
    "data$mvar44 <- as.factor(data$mvar44)\n",
    "data$mvar45 <- as.factor(data$mvar45)\n",
    "data$target <- as.factor(data$target)\n",
    "data$targetBin <- as.factor(data$targetBin)"
   ]
  },
  {
   "cell_type": "code",
   "execution_count": 52,
   "metadata": {
    "collapsed": true
   },
   "outputs": [],
   "source": [
    "targetBin <- data['targetBin']\n",
    "target <- data['target']"
   ]
  },
  {
   "cell_type": "code",
   "execution_count": 53,
   "metadata": {
    "collapsed": true
   },
   "outputs": [],
   "source": [
    "data <- data[, ! names(data) %in% c(\"target\"), drop = FALSE]\n",
    "data <- data[, ! names(data) %in% c(\"targetBin\"), drop = FALSE]"
   ]
  },
  {
   "cell_type": "code",
   "execution_count": 54,
   "metadata": {
    "collapsed": true
   },
   "outputs": [],
   "source": [
    "num_iterations <- 100\n",
    "\n",
    "config <- list(objective = \"binary\", \n",
    "\t\tmetric=\"binary_logloss,auc\",\n",
    "\t\tlearning_rate = 0.1,\n",
    "\t\tnum_leaves = 63,\n",
    "\t\ttree_learner = \"serial\",\n",
    "\t\tfeature_fraction = 0.8,\n",
    "\t\tbagging_freq = 5,\n",
    "\t\tbagging_fraction = 0.8,\n",
    "\t\tmin_data_in_leaf = 50,\n",
    "\t\tmin_sum_hessian_in_leaf = 5.0)\n"
   ]
  },
  {
   "cell_type": "code",
   "execution_count": 55,
   "metadata": {},
   "outputs": [],
   "source": [
    "data['label'] <- targetBin"
   ]
  },
  {
   "cell_type": "code",
   "execution_count": 57,
   "metadata": {
    "collapsed": true
   },
   "outputs": [],
   "source": [
    "data.list <- as.list(data)"
   ]
  },
  {
   "cell_type": "code",
   "execution_count": 59,
   "metadata": {},
   "outputs": [
    {
     "ename": "ERROR",
     "evalue": "Error in lgbm.data.create(data.list): Not compatible with requested type: [type=list; target=double].\n",
     "output_type": "error",
     "traceback": [
      "Error in lgbm.data.create(data.list): Not compatible with requested type: [type=list; target=double].\nTraceback:\n",
      "1. lgbm.data.create(data.list)"
     ]
    }
   ],
   "source": [
    "handle.data <- lgbm.data.create(data.list)"
   ]
  },
  {
   "cell_type": "code",
   "execution_count": 58,
   "metadata": {},
   "outputs": [
    {
     "ename": "ERROR",
     "evalue": "Error in lgbm.booster.create(data.list, lapply(config, as.character)): Expecting an external pointer: [type=list].\n",
     "output_type": "error",
     "traceback": [
      "Error in lgbm.booster.create(data.list, lapply(config, as.character)): Expecting an external pointer: [type=list].\nTraceback:\n",
      "1. lgbm.booster.create(data.list, lapply(config, as.character))"
     ]
    }
   ],
   "source": [
    "handle.booster <- lgbm.booster.create(data.list, lapply(config, as.character))"
   ]
  },
  {
   "cell_type": "code",
   "execution_count": null,
   "metadata": {
    "collapsed": true
   },
   "outputs": [],
   "source": []
  }
 ],
 "metadata": {
  "kernelspec": {
   "display_name": "R",
   "language": "R",
   "name": "ir"
  },
  "language_info": {
   "codemirror_mode": "r",
   "file_extension": ".r",
   "mimetype": "text/x-r-source",
   "name": "R",
   "pygments_lexer": "r",
   "version": "3.4.1"
  }
 },
 "nbformat": 4,
 "nbformat_minor": 2
}
