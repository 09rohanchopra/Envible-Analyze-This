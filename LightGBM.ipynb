{
 "cells": [
  {
   "cell_type": "code",
   "execution_count": 1,
   "metadata": {},
   "outputs": [
    {
     "name": "stderr",
     "output_type": "stream",
     "text": [
      "Loading required package: lattice\n",
      "Loading required package: ggplot2\n"
     ]
    }
   ],
   "source": [
    "library(caret)\n",
    "library(RLightGBM)"
   ]
  },
  {
   "cell_type": "code",
   "execution_count": 2,
   "metadata": {
    "collapsed": true
   },
   "outputs": [],
   "source": [
    "model <-caretModel.LGBM()"
   ]
  },
  {
   "cell_type": "code",
   "execution_count": 4,
   "metadata": {
    "collapsed": true
   },
   "outputs": [],
   "source": [
    "setwd(\"~/coding/Envible-VITVellore-AMAX-Analyze-This-2017\")"
   ]
  },
  {
   "cell_type": "code",
   "execution_count": 5,
   "metadata": {
    "collapsed": true
   },
   "outputs": [],
   "source": [
    "data <- read.csv('Dataset/Training_Dataset.csv')"
   ]
  },
  {
   "cell_type": "code",
   "execution_count": 6,
   "metadata": {
    "collapsed": true
   },
   "outputs": [],
   "source": [
    "data <- data[, ! names(data) %in% c(\"mvar1\"), drop = FALSE]\n",
    "data <- data[, ! names(data) %in% c(\"cm_key\"), drop = FALSE]"
   ]
  },
  {
   "cell_type": "code",
   "execution_count": 7,
   "metadata": {},
   "outputs": [
    {
     "data": {
      "text/html": [
       "40000"
      ],
      "text/latex": [
       "40000"
      ],
      "text/markdown": [
       "40000"
      ],
      "text/plain": [
       "[1] 40000"
      ]
     },
     "metadata": {},
     "output_type": "display_data"
    }
   ],
   "source": [
    "data$target <- rep(\"None\",nrow(data))\n",
    "data$target[data$mvar49==1] <- \"Supp\"\n",
    "data$target[data$mvar50==1] <- \"Elite\"\n",
    "data$target[data$mvar51==1] <- \"Credit\"\n",
    "length(data$target)"
   ]
  },
  {
   "cell_type": "code",
   "execution_count": 8,
   "metadata": {},
   "outputs": [
    {
     "data": {
      "text/html": [
       "40000"
      ],
      "text/latex": [
       "40000"
      ],
      "text/markdown": [
       "40000"
      ],
      "text/plain": [
       "[1] 40000"
      ]
     },
     "metadata": {},
     "output_type": "display_data"
    }
   ],
   "source": [
    "data$targetBin <- rep(0,nrow(data))\n",
    "data$targetBin[data$mvar49==1] <- 1\n",
    "data$targetBin[data$mvar50==1] <- 1\n",
    "data$targetBin[data$mvar51==1] <- 1\n",
    "length(data$targetBin)"
   ]
  },
  {
   "cell_type": "code",
   "execution_count": 9,
   "metadata": {
    "collapsed": true
   },
   "outputs": [],
   "source": [
    "data$target <- as.factor(data$target)\n",
    "data$targetBin <- as.factor(data$targetBin)"
   ]
  },
  {
   "cell_type": "code",
   "execution_count": 10,
   "metadata": {
    "collapsed": true
   },
   "outputs": [],
   "source": [
    "data <- data[, ! names(data) %in% c(\"mvar46\"), drop = FALSE]\n",
    "data <- data[, ! names(data) %in% c(\"mvar47\"), drop = FALSE]\n",
    "data <- data[, ! names(data) %in% c(\"mvar48\"), drop = FALSE]\n",
    "data <- data[, ! names(data) %in% c(\"mvar49\"), drop = FALSE]\n",
    "data <- data[, ! names(data) %in% c(\"mvar50\"), drop = FALSE]\n",
    "data <- data[, ! names(data) %in% c(\"mvar51\"), drop = FALSE]"
   ]
  },
  {
   "cell_type": "markdown",
   "metadata": {},
   "source": [
    "Get targets to the last column"
   ]
  },
  {
   "cell_type": "code",
   "execution_count": 11,
   "metadata": {
    "collapsed": true
   },
   "outputs": [],
   "source": [
    "multi <- data$target \n",
    "data <- data[, ! names(data) %in% c(\"target\"), drop = FALSE]\n",
    "data['target'] <- multi\n",
    "bin <- data$targetBin \n",
    "data <- data[, ! names(data) %in% c(\"targetBin\"), drop = FALSE]\n",
    "data['targetBin'] <- bin"
   ]
  },
  {
   "cell_type": "code",
   "execution_count": 12,
   "metadata": {},
   "outputs": [
    {
     "data": {
      "text/html": [
       "<table>\n",
       "<thead><tr><th scope=col>mvar2</th><th scope=col>mvar3</th><th scope=col>mvar4</th><th scope=col>mvar5</th><th scope=col>mvar6</th><th scope=col>mvar7</th><th scope=col>mvar8</th><th scope=col>mvar9</th><th scope=col>mvar10</th><th scope=col>mvar11</th><th scope=col>⋯</th><th scope=col>mvar38</th><th scope=col>mvar39</th><th scope=col>mvar40</th><th scope=col>mvar41</th><th scope=col>mvar42</th><th scope=col>mvar43</th><th scope=col>mvar44</th><th scope=col>mvar45</th><th scope=col>target</th><th scope=col>targetBin</th></tr></thead>\n",
       "<tbody>\n",
       "\t<tr><td>0        </td><td>106920   </td><td>4        </td><td> 18      </td><td> 970     </td><td>0.7969   </td><td>0.1831   </td><td> 337236  </td><td>1        </td><td>6.0899   </td><td>⋯        </td><td>173841.11</td><td>131011.34</td><td>0        </td><td>0        </td><td>0        </td><td>0        </td><td>0        </td><td>0        </td><td>None     </td><td>0        </td></tr>\n",
       "\t<tr><td>2        </td><td>     0   </td><td>4        </td><td> 19      </td><td>1030     </td><td>0.0678   </td><td>0.0000   </td><td>2918974  </td><td>1        </td><td>4.2016   </td><td>⋯        </td><td> 21049.55</td><td>  9146.66</td><td>0        </td><td>0        </td><td>0        </td><td>0        </td><td>0        </td><td>0        </td><td>None     </td><td>0        </td></tr>\n",
       "\t<tr><td>2        </td><td>399168   </td><td>4        </td><td> 35      </td><td> 327     </td><td>0.7551   </td><td>0.2986   </td><td> 498656  </td><td>0        </td><td>3.3760   </td><td>⋯        </td><td> 38022.78</td><td> 29979.13</td><td>0        </td><td>0        </td><td>0        </td><td>0        </td><td>0        </td><td>0        </td><td>None     </td><td>0        </td></tr>\n",
       "\t<tr><td>0        </td><td>267300   </td><td>4        </td><td>274      </td><td>1258     </td><td>0.7969   </td><td>0.5297   </td><td>2480074  </td><td>1        </td><td>4.1082   </td><td>⋯        </td><td> 23934.82</td><td> 33299.45</td><td>1        </td><td>0        </td><td>0        </td><td>1        </td><td>0        </td><td>0        </td><td>Credit   </td><td>1        </td></tr>\n",
       "\t<tr><td>0        </td><td>213840   </td><td>6        </td><td>  1      </td><td>   0     </td><td>2.3238   </td><td>0.0000   </td><td>2918974  </td><td>0        </td><td>0.0000   </td><td>⋯        </td><td>112817.05</td><td> 53185.85</td><td>0        </td><td>0        </td><td>0        </td><td>0        </td><td>0        </td><td>0        </td><td>Supp     </td><td>1        </td></tr>\n",
       "\t<tr><td>5        </td><td>     0   </td><td>1        </td><td>127      </td><td> 381     </td><td>0.1431   </td><td>0.0000   </td><td>  48246  </td><td>0        </td><td>3.1081   </td><td>⋯        </td><td> 13645.81</td><td> 16864.47</td><td>0        </td><td>0        </td><td>0        </td><td>0        </td><td>0        </td><td>0        </td><td>None     </td><td>0        </td></tr>\n",
       "</tbody>\n",
       "</table>\n"
      ],
      "text/latex": [
       "\\begin{tabular}{r|llllllllllllllllllllllllllllllllllllllllllllll}\n",
       " mvar2 & mvar3 & mvar4 & mvar5 & mvar6 & mvar7 & mvar8 & mvar9 & mvar10 & mvar11 & ⋯ & mvar38 & mvar39 & mvar40 & mvar41 & mvar42 & mvar43 & mvar44 & mvar45 & target & targetBin\\\\\n",
       "\\hline\n",
       "\t 0         & 106920    & 4         &  18       &  970      & 0.7969    & 0.1831    &  337236   & 1         & 6.0899    & ⋯         & 173841.11 & 131011.34 & 0         & 0         & 0         & 0         & 0         & 0         & None      & 0        \\\\\n",
       "\t 2         &      0    & 4         &  19       & 1030      & 0.0678    & 0.0000    & 2918974   & 1         & 4.2016    & ⋯         &  21049.55 &   9146.66 & 0         & 0         & 0         & 0         & 0         & 0         & None      & 0        \\\\\n",
       "\t 2         & 399168    & 4         &  35       &  327      & 0.7551    & 0.2986    &  498656   & 0         & 3.3760    & ⋯         &  38022.78 &  29979.13 & 0         & 0         & 0         & 0         & 0         & 0         & None      & 0        \\\\\n",
       "\t 0         & 267300    & 4         & 274       & 1258      & 0.7969    & 0.5297    & 2480074   & 1         & 4.1082    & ⋯         &  23934.82 &  33299.45 & 1         & 0         & 0         & 1         & 0         & 0         & Credit    & 1        \\\\\n",
       "\t 0         & 213840    & 6         &   1       &    0      & 2.3238    & 0.0000    & 2918974   & 0         & 0.0000    & ⋯         & 112817.05 &  53185.85 & 0         & 0         & 0         & 0         & 0         & 0         & Supp      & 1        \\\\\n",
       "\t 5         &      0    & 1         & 127       &  381      & 0.1431    & 0.0000    &   48246   & 0         & 3.1081    & ⋯         &  13645.81 &  16864.47 & 0         & 0         & 0         & 0         & 0         & 0         & None      & 0        \\\\\n",
       "\\end{tabular}\n"
      ],
      "text/markdown": [
       "\n",
       "mvar2 | mvar3 | mvar4 | mvar5 | mvar6 | mvar7 | mvar8 | mvar9 | mvar10 | mvar11 | ⋯ | mvar38 | mvar39 | mvar40 | mvar41 | mvar42 | mvar43 | mvar44 | mvar45 | target | targetBin | \n",
       "|---|---|---|---|---|---|\n",
       "| 0         | 106920    | 4         |  18       |  970      | 0.7969    | 0.1831    |  337236   | 1         | 6.0899    | ⋯         | 173841.11 | 131011.34 | 0         | 0         | 0         | 0         | 0         | 0         | None      | 0         | \n",
       "| 2         |      0    | 4         |  19       | 1030      | 0.0678    | 0.0000    | 2918974   | 1         | 4.2016    | ⋯         |  21049.55 |   9146.66 | 0         | 0         | 0         | 0         | 0         | 0         | None      | 0         | \n",
       "| 2         | 399168    | 4         |  35       |  327      | 0.7551    | 0.2986    |  498656   | 0         | 3.3760    | ⋯         |  38022.78 |  29979.13 | 0         | 0         | 0         | 0         | 0         | 0         | None      | 0         | \n",
       "| 0         | 267300    | 4         | 274       | 1258      | 0.7969    | 0.5297    | 2480074   | 1         | 4.1082    | ⋯         |  23934.82 |  33299.45 | 1         | 0         | 0         | 1         | 0         | 0         | Credit    | 1         | \n",
       "| 0         | 213840    | 6         |   1       |    0      | 2.3238    | 0.0000    | 2918974   | 0         | 0.0000    | ⋯         | 112817.05 |  53185.85 | 0         | 0         | 0         | 0         | 0         | 0         | Supp      | 1         | \n",
       "| 5         |      0    | 1         | 127       |  381      | 0.1431    | 0.0000    |   48246   | 0         | 3.1081    | ⋯         |  13645.81 |  16864.47 | 0         | 0         | 0         | 0         | 0         | 0         | None      | 0         | \n",
       "\n",
       "\n"
      ],
      "text/plain": [
       "  mvar2 mvar3  mvar4 mvar5 mvar6 mvar7  mvar8  mvar9   mvar10 mvar11 ⋯\n",
       "1 0     106920 4      18    970  0.7969 0.1831  337236 1      6.0899 ⋯\n",
       "2 2          0 4      19   1030  0.0678 0.0000 2918974 1      4.2016 ⋯\n",
       "3 2     399168 4      35    327  0.7551 0.2986  498656 0      3.3760 ⋯\n",
       "4 0     267300 4     274   1258  0.7969 0.5297 2480074 1      4.1082 ⋯\n",
       "5 0     213840 6       1      0  2.3238 0.0000 2918974 0      0.0000 ⋯\n",
       "6 5          0 1     127    381  0.1431 0.0000   48246 0      3.1081 ⋯\n",
       "  mvar38    mvar39    mvar40 mvar41 mvar42 mvar43 mvar44 mvar45 target\n",
       "1 173841.11 131011.34 0      0      0      0      0      0      None  \n",
       "2  21049.55   9146.66 0      0      0      0      0      0      None  \n",
       "3  38022.78  29979.13 0      0      0      0      0      0      None  \n",
       "4  23934.82  33299.45 1      0      0      1      0      0      Credit\n",
       "5 112817.05  53185.85 0      0      0      0      0      0      Supp  \n",
       "6  13645.81  16864.47 0      0      0      0      0      0      None  \n",
       "  targetBin\n",
       "1 0        \n",
       "2 0        \n",
       "3 0        \n",
       "4 1        \n",
       "5 1        \n",
       "6 0        "
      ]
     },
     "metadata": {},
     "output_type": "display_data"
    }
   ],
   "source": [
    "head(data)"
   ]
  },
  {
   "cell_type": "markdown",
   "metadata": {},
   "source": [
    "Make factors"
   ]
  },
  {
   "cell_type": "code",
   "execution_count": 13,
   "metadata": {
    "collapsed": true
   },
   "outputs": [],
   "source": [
    "data$mvar2 <- as.factor(data$mvar2)\n",
    "data$mvar4 <- as.factor(data$mvar4)\n",
    "data$mvar10 <- as.factor(data$mvar10)\n",
    "data$mvar12 <- as.factor(data$mvar12)\n",
    "data$mvar13 <- as.factor(data$mvar13)\n",
    "data$mvar14 <- as.factor(data$mvar14)\n",
    "data$mvar15 <- as.factor(data$mvar15)\n",
    "data$mvar40 <- as.factor(data$mvar40)\n",
    "data$mvar41 <- as.factor(data$mvar41)\n",
    "data$mvar42 <- as.factor(data$mvar42)\n",
    "data$mvar43 <- as.factor(data$mvar43)\n",
    "data$mvar44 <- as.factor(data$mvar44)\n",
    "data$mvar45 <- as.factor(data$mvar45)\n",
    "data$target <- as.factor(data$target)\n",
    "data$targetBin <- as.factor(data$targetBin)"
   ]
  },
  {
   "cell_type": "code",
   "execution_count": 14,
   "metadata": {},
   "outputs": [
    {
     "name": "stdout",
     "output_type": "stream",
     "text": [
      "'data.frame':\t40000 obs. of  46 variables:\n",
      " $ mvar2    : Factor w/ 12 levels \"0\",\"1\",\"2\",\"3\",..: 1 3 3 1 1 6 2 5 2 4 ...\n",
      " $ mvar3    : int  106920 0 399168 267300 213840 0 0 0 25126 0 ...\n",
      " $ mvar4    : Factor w/ 13 levels \"0\",\"1\",\"2\",\"3\",..: 5 5 5 5 7 2 4 4 1 4 ...\n",
      " $ mvar5    : int  18 19 35 274 1 127 320 2 129 131 ...\n",
      " $ mvar6    : int  970 1030 327 1258 0 381 490 981 490 207 ...\n",
      " $ mvar7    : num  0.7969 0.0678 0.7551 0.7969 2.3238 ...\n",
      " $ mvar8    : num  0.183 0 0.299 0.53 0 ...\n",
      " $ mvar9    : int  337236 2918974 498656 2480074 2918974 48246 2918974 2259153 72102 2521045 ...\n",
      " $ mvar10   : Factor w/ 2 levels \"0\",\"1\": 2 2 1 2 1 1 1 2 1 1 ...\n",
      " $ mvar11   : num  6.09 4.2 3.38 4.11 0 ...\n",
      " $ mvar12   : Factor w/ 18 levels \"Apparel\",\"Automotive         \",..: 13 18 11 16 18 9 16 13 6 3 ...\n",
      " $ mvar13   : Factor w/ 23 levels \"0\",\"2\",\"3\",\"4\",..: 12 11 12 12 6 13 12 10 15 14 ...\n",
      " $ mvar14   : Factor w/ 10 levels \"0\",\"1\",\"2\",\"3\",..: 2 2 2 2 3 2 2 2 2 2 ...\n",
      " $ mvar15   : Factor w/ 6 levels \"0\",\"1\",\"2\",\"3\",..: 1 1 2 1 1 1 1 1 1 1 ...\n",
      " $ mvar16   : num  0 52.5 1079 534.7 0 ...\n",
      " $ mvar17   : num  0 17.2 175.9 2344.8 0 ...\n",
      " $ mvar18   : num  0 17.2 178.1 1214 0 ...\n",
      " $ mvar19   : num  0 34.4 175.4 125.7 0 ...\n",
      " $ mvar20   : num  1169.1 65.9 100.7 4064.4 68434.3 ...\n",
      " $ mvar21   : num  229 0 337 8506 33391 ...\n",
      " $ mvar22   : num  250 0 196 1583 63982 ...\n",
      " $ mvar23   : num  581 0 0 1420 33180 ...\n",
      " $ mvar24   : num  485.4 0 221.1 274.9 41.9 ...\n",
      " $ mvar25   : num  17.9 0 199.2 24.9 575.6 ...\n",
      " $ mvar26   : num  498 0 155 257 600 ...\n",
      " $ mvar27   : num  5.46 0 265.44 42.75 17.11 ...\n",
      " $ mvar28   : num  0 0 0 251 0 ...\n",
      " $ mvar29   : num  0 0 0 214 0 ...\n",
      " $ mvar30   : num  0 0 0 425 0 ...\n",
      " $ mvar31   : num  0 0 0 418 0 ...\n",
      " $ mvar32   : num  0 0 0 22412 0 ...\n",
      " $ mvar33   : num  0 0 0 44853 0 ...\n",
      " $ mvar34   : num  0 0 0 22457 0 ...\n",
      " $ mvar35   : num  0 0 0 25472 0 ...\n",
      " $ mvar36   : num  208277 10324 55202 31921 125878 ...\n",
      " $ mvar37   : num  129505 3666 85358 35437 91078 ...\n",
      " $ mvar38   : num  173841 21050 38023 23935 112817 ...\n",
      " $ mvar39   : num  131011 9147 29979 33299 53186 ...\n",
      " $ mvar40   : Factor w/ 6 levels \"0\",\"1\",\"2\",\"3\",..: 1 1 1 2 1 1 1 2 2 1 ...\n",
      " $ mvar41   : Factor w/ 5 levels \"0\",\"1\",\"2\",\"3\",..: 1 1 1 1 1 1 1 1 1 1 ...\n",
      " $ mvar42   : Factor w/ 4 levels \"0\",\"1\",\"2\",\"3\": 1 1 1 1 1 1 1 1 1 1 ...\n",
      " $ mvar43   : Factor w/ 6 levels \"0\",\"1\",\"2\",\"3\",..: 1 1 1 2 1 1 1 2 1 1 ...\n",
      " $ mvar44   : Factor w/ 5 levels \"0\",\"1\",\"2\",\"3\",..: 1 1 1 1 1 1 1 1 1 1 ...\n",
      " $ mvar45   : Factor w/ 2 levels \"0\",\"1\": 1 1 1 1 1 1 1 1 1 1 ...\n",
      " $ target   : Factor w/ 4 levels \"Credit\",\"Elite\",..: 3 3 3 1 4 3 3 3 3 3 ...\n",
      " $ targetBin: Factor w/ 2 levels \"0\",\"1\": 1 1 1 2 2 1 1 1 1 1 ...\n"
     ]
    }
   ],
   "source": [
    "str(data)"
   ]
  },
  {
   "cell_type": "code",
   "execution_count": null,
   "metadata": {
    "collapsed": true
   },
   "outputs": [],
   "source": [
    "fit <- train(Species ~ ., data = iris, method=model, verbosity = 0)\n",
    "print(fit)\n",
    "\n",
    "y.pred <- predict(fit, iris[,1:4])\n",
    "\n",
    "##\n",
    "## training using sparse matrices\n",
    "##\n",
    "library(Matrix)\n",
    "\n",
    "model.sparse <- caretModel.LGBM.sparse()\n",
    "\n",
    "# generate a sparse matrix\n",
    "mat <- Matrix(as.matrix(iris[,1:4]), sparse = T)\n",
    "\n",
    "fit <- train(data.frame(idx = 1:nrow(iris)), iris$Species, method = model.sparse, matrix = mat, verbosity = 0)\n",
    "print(fit)"
   ]
  },
  {
   "cell_type": "code",
   "execution_count": 16,
   "metadata": {
    "collapsed": true
   },
   "outputs": [],
   "source": [
    "targetBin <- data['targetBin']\n",
    "target <- data['target']"
   ]
  },
  {
   "cell_type": "code",
   "execution_count": 17,
   "metadata": {
    "collapsed": true
   },
   "outputs": [],
   "source": [
    "data <- data[, ! names(data) %in% c(\"target\"), drop = FALSE]"
   ]
  },
  {
   "cell_type": "code",
   "execution_count": 19,
   "metadata": {
    "collapsed": true
   },
   "outputs": [],
   "source": [
    "fit <- train(targetBin ~ ., data = data, method=model, verbosity = 0)\n",
    "print(fit)"
   ]
  },
  {
   "cell_type": "code",
   "execution_count": null,
   "metadata": {
    "collapsed": true
   },
   "outputs": [],
   "source": []
  }
 ],
 "metadata": {
  "kernelspec": {
   "display_name": "R",
   "language": "R",
   "name": "ir"
  },
  "language_info": {
   "codemirror_mode": "r",
   "file_extension": ".r",
   "mimetype": "text/x-r-source",
   "name": "R",
   "pygments_lexer": "r",
   "version": "3.4.1"
  }
 },
 "nbformat": 4,
 "nbformat_minor": 2
}
